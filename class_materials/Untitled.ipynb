{
 "cells": [
  {
   "cell_type": "code",
   "execution_count": 4,
   "id": "331965e3-a334-4b44-a8ef-54bc698759bc",
   "metadata": {},
   "outputs": [
    {
     "name": "stdout",
     "output_type": "stream",
     "text": [
      "Python version: 3.10.18 | packaged by Anaconda, Inc. | (main, Jun  5 2025, 13:08:55) [MSC v.1929 64 bit (AMD64)]\n",
      "Interpreter version: C:\\Users\\kvssr\\anaconda3\\envs\\bootcamp_env\\python.exe\n"
     ]
    }
   ],
   "source": [
    "import sys, os, textwrap, pathlib\n",
    "print(\"Python version:\", sys.version)\n",
    "print(\"Interpreter version:\", sys.executable)"
   ]
  },
  {
   "cell_type": "code",
   "execution_count": 5,
   "id": "409ddc40-f55d-4a35-a5a7-c56a71c59d5d",
   "metadata": {},
   "outputs": [],
   "source": [
    "import numpy as np\n",
    "# REPO_NAME = \"first_project\"\n",
    "# FOLDERS = [\"data\", \"src\",\"notebooks\", \"docs\"]\n",
    "\n",
    "# base = pathalib.Path.cwd() / REPO_NAME\n",
    "# BAS.MKDIR(EXIST _OK=True)\n",
    "# for f in FOLDERS:\n",
    "#     (base / f).mkdir(parents=True, exist _ok=True)"
   ]
  },
  {
   "cell_type": "code",
   "execution_count": 6,
   "id": "b5b5f6a7-71f7-4eaf-a25d-211be8908fcd",
   "metadata": {},
   "outputs": [],
   "source": [
    "from typing import Optional"
   ]
  },
  {
   "cell_type": "code",
   "execution_count": 7,
   "id": "b35359a0-19f4-4b83-87dd-cee6b13a6343",
   "metadata": {},
   "outputs": [],
   "source": [
    "def get_key(name, default):\n",
    "    return os.getenv(name, default)"
   ]
  },
  {
   "cell_type": "code",
   "execution_count": 8,
   "id": "75208475-e5de-4314-961b-cfdc20d17a53",
   "metadata": {},
   "outputs": [
    {
     "ename": "NameError",
     "evalue": "name 'Path' is not defined",
     "output_type": "error",
     "traceback": [
      "\u001b[1;31m---------------------------------------------------------------------------\u001b[0m",
      "\u001b[1;31mNameError\u001b[0m                                 Traceback (most recent call last)",
      "Cell \u001b[1;32mIn[8], line 1\u001b[0m\n\u001b[1;32m----> 1\u001b[0m PROJECT_ROOT \u001b[38;5;241m=\u001b[39m \u001b[43mPath\u001b[49m\u001b[38;5;241m.\u001b[39mcwd()\n\u001b[0;32m      2\u001b[0m DATA_DIR \u001b[38;5;241m=\u001b[39m PROJECT_ROOT \u001b[38;5;241m/\u001b[39m \u001b[38;5;124m\"\u001b[39m\u001b[38;5;124mdata\u001b[39m\u001b[38;5;124m\"\u001b[39m\n\u001b[0;32m      3\u001b[0m \u001b[38;5;28mprint\u001b[39m(\u001b[38;5;124m\"\u001b[39m\u001b[38;5;124mPROJECT ROOT:\u001b[39m\u001b[38;5;124m\"\u001b[39m, PROJECT_ROOT)\n",
      "\u001b[1;31mNameError\u001b[0m: name 'Path' is not defined"
     ]
    }
   ],
   "source": [
    "PROJECT_ROOT = Path.cwd()\n",
    "DATA_DIR = PROJECT_ROOT / \"data\"\n",
    "print(\"PROJECT ROOT:\", PROJECT_ROOT)\n",
    "print(\"DATA_DIR:\", DATA_DIR)"
   ]
  },
  {
   "cell_type": "code",
   "execution_count": null,
   "id": "1dbb9037-079a-4478-abe1-2061ca7ba1cc",
   "metadata": {},
   "outputs": [],
   "source": [
    "alber"
   ]
  }
 ],
 "metadata": {
  "kernelspec": {
   "display_name": "Python 3 (ipykernel)",
   "language": "python",
   "name": "python3"
  },
  "language_info": {
   "codemirror_mode": {
    "name": "ipython",
    "version": 3
   },
   "file_extension": ".py",
   "mimetype": "text/x-python",
   "name": "python",
   "nbconvert_exporter": "python",
   "pygments_lexer": "ipython3",
   "version": "3.10.18"
  }
 },
 "nbformat": 4,
 "nbformat_minor": 5
}
