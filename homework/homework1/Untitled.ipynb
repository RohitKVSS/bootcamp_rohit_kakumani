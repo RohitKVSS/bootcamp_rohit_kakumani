{
 "cells": [
  {
   "cell_type": "markdown",
   "id": "60b30a49-9f36-4b1b-b27c-51c996391461",
   "metadata": {},
   "source": [
    "# Stage 01 — Problem Framing & Scoping (Lecture Notebook)\n",
    "**Date:** Aug 14 (Thursday) (A)\n",
    "\n",
    "### Objectives\n",
    "- Define a real-world financial/business problem.\n",
    "- Identify the end-user and their needs.\n",
    "- Determine if the goal is descriptive, predictive, or causal.\n",
    "- Clarify assumptions and constraints.\n",
    "- Begin designing the modeling workflow and repo structure."
   ]
  }
 ],
 "metadata": {
  "kernelspec": {
   "display_name": "Python 3 (ipykernel)",
   "language": "python",
   "name": "python3"
  },
  "language_info": {
   "codemirror_mode": {
    "name": "ipython",
    "version": 3
   },
   "file_extension": ".py",
   "mimetype": "text/x-python",
   "name": "python",
   "nbconvert_exporter": "python",
   "pygments_lexer": "ipython3",
   "version": "3.10.18"
  }
 },
 "nbformat": 4,
 "nbformat_minor": 5
}
