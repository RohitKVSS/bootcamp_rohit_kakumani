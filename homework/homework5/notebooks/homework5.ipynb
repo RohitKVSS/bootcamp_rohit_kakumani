{
 "cells": [
  {
   "cell_type": "code",
   "execution_count": 2,
   "id": "43f9e1b9-6ec9-45d4-864a-7f28b81404a8",
   "metadata": {},
   "outputs": [
    {
     "name": "stdout",
     "output_type": "stream",
     "text": [
      "RAW -> C:\\Users\\kvssr\\bootcamp_rohit_kakumani\\homework\\homework5\\data\\raw\n",
      "PROC -> C:\\Users\\kvssr\\bootcamp_rohit_kakumani\\homework\\homework5\\data\\processed\n"
     ]
    },
    {
     "data": {
      "text/html": [
       "<div>\n",
       "<style scoped>\n",
       "    .dataframe tbody tr th:only-of-type {\n",
       "        vertical-align: middle;\n",
       "    }\n",
       "\n",
       "    .dataframe tbody tr th {\n",
       "        vertical-align: top;\n",
       "    }\n",
       "\n",
       "    .dataframe thead th {\n",
       "        text-align: right;\n",
       "    }\n",
       "</style>\n",
       "<table border=\"1\" class=\"dataframe\">\n",
       "  <thead>\n",
       "    <tr style=\"text-align: right;\">\n",
       "      <th></th>\n",
       "      <th>date</th>\n",
       "      <th>ticker</th>\n",
       "      <th>price</th>\n",
       "    </tr>\n",
       "  </thead>\n",
       "  <tbody>\n",
       "    <tr>\n",
       "      <th>0</th>\n",
       "      <td>2024-01-01</td>\n",
       "      <td>AAPL</td>\n",
       "      <td>149.612695</td>\n",
       "    </tr>\n",
       "    <tr>\n",
       "      <th>1</th>\n",
       "      <td>2024-01-02</td>\n",
       "      <td>AAPL</td>\n",
       "      <td>150.348904</td>\n",
       "    </tr>\n",
       "    <tr>\n",
       "      <th>2</th>\n",
       "      <td>2024-01-03</td>\n",
       "      <td>AAPL</td>\n",
       "      <td>149.986891</td>\n",
       "    </tr>\n",
       "    <tr>\n",
       "      <th>3</th>\n",
       "      <td>2024-01-04</td>\n",
       "      <td>AAPL</td>\n",
       "      <td>149.922273</td>\n",
       "    </tr>\n",
       "    <tr>\n",
       "      <th>4</th>\n",
       "      <td>2024-01-05</td>\n",
       "      <td>AAPL</td>\n",
       "      <td>148.877593</td>\n",
       "    </tr>\n",
       "  </tbody>\n",
       "</table>\n",
       "</div>"
      ],
      "text/plain": [
       "        date ticker       price\n",
       "0 2024-01-01   AAPL  149.612695\n",
       "1 2024-01-02   AAPL  150.348904\n",
       "2 2024-01-03   AAPL  149.986891\n",
       "3 2024-01-04   AAPL  149.922273\n",
       "4 2024-01-05   AAPL  148.877593"
      ]
     },
     "execution_count": 2,
     "metadata": {},
     "output_type": "execute_result"
    }
   ],
   "source": [
    "import os, pathlib, datetime as dt\n",
    "import pandas as pd\n",
    "from dotenv import load_dotenv\n",
    "import numpy as np\n",
    "\n",
    "load_dotenv()\n",
    "RAW = pathlib.Path(os.getenv('DATA_DIR_RAW', 'data/raw'))\n",
    "PROC = pathlib.Path(os.getenv('DATA_DIR_PROCESSED', 'data/processed'))\n",
    "RAW.mkdir(parents=True, exist_ok=True)\n",
    "PROC.mkdir(parents=True, exist_ok=True)\n",
    "print('RAW ->', RAW.resolve())\n",
    "print('PROC ->', PROC.resolve())\n",
    "\n",
    "dates = pd.date_range('2024-01-01', periods=20, freq='D')\n",
    "df = pd.DataFrame({'date': dates, 'ticker': ['AAPL']*20, 'price': 150 + np.random.randn(20).cumsum()})\n",
    "df.head()"
   ]
  },
  {
   "cell_type": "code",
   "execution_count": 3,
   "id": "b92c3992-1185-4daf-8949-88350c72a394",
   "metadata": {},
   "outputs": [
    {
     "name": "stdout",
     "output_type": "stream",
     "text": [
      "Requirement already satisfied: pyarrow in c:\\users\\kvssr\\anaconda3\\envs\\fe-course\\lib\\site-packages (21.0.0)\n",
      "Note: you may need to restart the kernel to use updated packages.\n"
     ]
    }
   ],
   "source": [
    "pip install pyarrow"
   ]
  },
  {
   "cell_type": "code",
   "execution_count": 4,
   "id": "7bd425b4-69c7-43a7-a5a5-a196d4a5a13e",
   "metadata": {},
   "outputs": [
    {
     "name": "stdout",
     "output_type": "stream",
     "text": [
      "Requirement already satisfied: fastparquet in c:\\users\\kvssr\\anaconda3\\envs\\fe-course\\lib\\site-packages (2024.11.0)\n",
      "Requirement already satisfied: pandas>=1.5.0 in c:\\users\\kvssr\\anaconda3\\envs\\fe-course\\lib\\site-packages (from fastparquet) (2.3.2)\n",
      "Requirement already satisfied: numpy in c:\\users\\kvssr\\anaconda3\\envs\\fe-course\\lib\\site-packages (from fastparquet) (2.3.2)\n",
      "Requirement already satisfied: cramjam>=2.3 in c:\\users\\kvssr\\anaconda3\\envs\\fe-course\\lib\\site-packages (from fastparquet) (2.11.0)\n",
      "Requirement already satisfied: fsspec in c:\\users\\kvssr\\anaconda3\\envs\\fe-course\\lib\\site-packages (from fastparquet) (2025.7.0)\n",
      "Requirement already satisfied: packaging in c:\\users\\kvssr\\anaconda3\\envs\\fe-course\\lib\\site-packages (from fastparquet) (25.0)\n",
      "Requirement already satisfied: python-dateutil>=2.8.2 in c:\\users\\kvssr\\anaconda3\\envs\\fe-course\\lib\\site-packages (from pandas>=1.5.0->fastparquet) (2.9.0.post0)\n",
      "Requirement already satisfied: pytz>=2020.1 in c:\\users\\kvssr\\anaconda3\\envs\\fe-course\\lib\\site-packages (from pandas>=1.5.0->fastparquet) (2025.2)\n",
      "Requirement already satisfied: tzdata>=2022.7 in c:\\users\\kvssr\\anaconda3\\envs\\fe-course\\lib\\site-packages (from pandas>=1.5.0->fastparquet) (2025.2)\n",
      "Requirement already satisfied: six>=1.5 in c:\\users\\kvssr\\anaconda3\\envs\\fe-course\\lib\\site-packages (from python-dateutil>=2.8.2->pandas>=1.5.0->fastparquet) (1.17.0)\n",
      "Note: you may need to restart the kernel to use updated packages.\n"
     ]
    }
   ],
   "source": [
    "pip install fastparquet"
   ]
  },
  {
   "cell_type": "code",
   "execution_count": 5,
   "id": "a6c42474-6b40-4e98-983a-65628aa4ff6b",
   "metadata": {},
   "outputs": [
    {
     "name": "stdout",
     "output_type": "stream",
     "text": [
      "✅ Saved CSV to ..\\data\\raw\\aapl_prices.csv\n",
      "✅ Saved Parquet to ..\\data\\processed\\aapl_prices.parquet\n"
     ]
    }
   ],
   "source": [
    "\n",
    "# Save to CSV (raw)\n",
    "csv_path = os.path.join(RAW, \"aapl_prices.csv\")\n",
    "df.to_csv(csv_path, index=False)\n",
    "\n",
    "\n",
    "# Save to Parquet (processed)\n",
    "parquet_path = os.path.join(PROC, \"aapl_prices.parquet\")\n",
    "try:\n",
    "    df.to_parquet(parquet_path)\n",
    "except Exception as e:\n",
    "    print('Parquet engine not available. Install pyarrow or fastparquet to complete this step.')\n",
    "\n",
    "print(f\"✅ Saved CSV to {csv_path}\")\n",
    "print(f\"✅ Saved Parquet to {parquet_path}\")"
   ]
  },
  {
   "cell_type": "code",
   "execution_count": 7,
   "id": "8b160e01-f0fe-4e5f-bbdd-88ebcbbc148c",
   "metadata": {},
   "outputs": [
    {
     "name": "stdout",
     "output_type": "stream",
     "text": [
      "✅ Validation Results:\n",
      "{'shape_match': True, 'columns_exist': True, 'dtypes_match': {'date': True, 'ticker': True, 'price': True}, 'na_counts': {'date': (np.int64(0), np.int64(0)), 'ticker': (np.int64(0), np.int64(0)), 'price': (np.int64(0), np.int64(0))}}\n"
     ]
    }
   ],
   "source": [
    "df_csv = pd.read_csv(csv_path, parse_dates=[\"date\"])\n",
    "df_parquet = pd.read_parquet(parquet_path)\n",
    "\n",
    "\n",
    "def validate_dataframes(df1, df2, critical_cols):\n",
    "    results = {}\n",
    "\n",
    "    # Check shapes\n",
    "    results[\"shape_match\"] = df1.shape == df2.shape\n",
    "\n",
    "    # Check critical columns exist\n",
    "    results[\"columns_exist\"] = all(col in df2.columns for col in critical_cols)\n",
    "\n",
    "    # Check dtypes\n",
    "    dtype_check = {}\n",
    "    for col in critical_cols:\n",
    "        dtype_check[col] = (df1[col].dtype == df2[col].dtype)\n",
    "    results[\"dtypes_match\"] = dtype_check\n",
    "\n",
    "    # Check NA counts\n",
    "    na_check = {}\n",
    "    for col in critical_cols:\n",
    "        na_check[col] = (df1[col].isna().sum(), df2[col].isna().sum())\n",
    "    results[\"na_counts\"] = na_check\n",
    "\n",
    "    return results\n",
    "\n",
    "# Run validation\n",
    "validation_results = validate_dataframes(df_csv, df_parquet, critical_cols=[\"date\", \"ticker\", \"price\"])\n",
    "print(\"✅ Validation Results:\")\n",
    "print(validation_results)"
   ]
  },
  {
   "cell_type": "code",
   "execution_count": null,
   "id": "4c40b4d4-e87a-46e5-8c19-1bab0c5eb79d",
   "metadata": {},
   "outputs": [],
   "source": []
  }
 ],
 "metadata": {
  "kernelspec": {
   "display_name": "Python 3 (ipykernel)",
   "language": "python",
   "name": "python3"
  },
  "language_info": {
   "codemirror_mode": {
    "name": "ipython",
    "version": 3
   },
   "file_extension": ".py",
   "mimetype": "text/x-python",
   "name": "python",
   "nbconvert_exporter": "python",
   "pygments_lexer": "ipython3",
   "version": "3.11.13"
  }
 },
 "nbformat": 4,
 "nbformat_minor": 5
}
